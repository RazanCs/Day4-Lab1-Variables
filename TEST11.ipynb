{
 "cells": [
  {
   "cell_type": "code",
   "execution_count": null,
   "id": "5d63f1bf",
   "metadata": {},
   "outputs": [],
   "source": [
    "r='summer'\n",
    "x=5\n",
    "y=5.5\n",
    "s=t=\"Orange\"\n",
    "a,y = \"Orange\", \"Banana\""
   ]
  }
 ],
 "metadata": {
  "kernelspec": {
   "display_name": "Python 3 (ipykernel)",
   "language": "python",
   "name": "python3"
  },
  "language_info": {
   "codemirror_mode": {
    "name": "ipython",
    "version": 3
   },
   "file_extension": ".py",
   "mimetype": "text/x-python",
   "name": "python",
   "nbconvert_exporter": "python",
   "pygments_lexer": "ipython3",
   "version": "3.9.12"
  }
 },
 "nbformat": 4,
 "nbformat_minor": 5
}
